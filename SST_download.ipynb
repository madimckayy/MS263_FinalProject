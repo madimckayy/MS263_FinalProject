{
 "cells": [
  {
   "cell_type": "markdown",
   "id": "b6512c75-5617-4f33-833b-e7c08a8be105",
   "metadata": {},
   "source": [
    "# Notebook for downloading and processing SST data"
   ]
  },
  {
   "cell_type": "markdown",
   "id": "ad7353e2-b457-4d7c-a47c-f7958e019b84",
   "metadata": {},
   "source": [
    "## Import all necessary modules"
   ]
  },
  {
   "cell_type": "markdown",
   "id": "8ccb535f-d308-46ae-9ad9-3b3bad1c7841",
   "metadata": {},
   "source": [
    "Before running you will need to install podacc subscriber in your terminal"
   ]
  },
  {
   "cell_type": "code",
   "execution_count": 22,
   "id": "2020c809-7b66-4593-9f94-1712439c813f",
   "metadata": {},
   "outputs": [],
   "source": [
    "import numpy as np\n",
    "import matplotlib.pyplot as plt\n",
    "import netCDF4 as nc4\n",
    "import os\n",
    "import requests\n",
    "import os\n",
    "from subscriber import podaac_data_downloader as pdd\n",
    "from subscriber import podaac_access as pa\n",
    "import argparse\n",
    "import datetime as dt\n",
    "import pandas as pd\n",
    "import statsmodels.api as sm\n",
    "from scipy.interpolate import interp1d\n",
    "import datetime as dt"
   ]
  },
  {
   "cell_type": "markdown",
   "id": "f865a547-585e-4395-964d-f9f78a8af197",
   "metadata": {},
   "source": [
    "### Download SST for selected dates"
   ]
  },
  {
   "cell_type": "code",
   "execution_count": null,
   "id": "a173a6fc-9af1-4923-a425-883b1b0b9183",
   "metadata": {},
   "outputs": [],
   "source": [
    "data_path = #The full directory to the file folder you want data to be downloaded to\n",
    "\n",
    "short_name = 'MUR25-JPL-L4-GLOB-v04.2'\n",
    "#another option - SMAP SSS: SMAP_JPL_L3_SSS_CAP_MONTHLY_V5\n",
    "    \n",
    "start_date_time = #start date for SST download\n",
    "# must be in format: '2017-06-01T00:00:00Z'\n",
    "    \n",
    "end_date_time = #end date for SST download\n",
    "# must be in format: '2017-06-01T00:00:00Z'\n",
    "\n",
    "parser = pdd.create_parser()\n",
    "args = parser.parse_args(['-c',short_name, '-d',data_path,\n",
    "                              '-sd',start_date_time, '-ed',end_date_time])\n",
    "    \n",
    "pdd.run(args)"
   ]
  },
  {
   "cell_type": "markdown",
   "id": "72e9cce0-f4ab-481a-a509-5bf525ef02ab",
   "metadata": {},
   "source": [
    "### Creating SST grids for selected sites"
   ]
  },
  {
   "cell_type": "code",
   "execution_count": 25,
   "id": "9d6adcc4-5439-41c8-86fd-7d13a7241ac5",
   "metadata": {},
   "outputs": [
    {
     "name": "stdout",
     "output_type": "stream",
     "text": [
      "307.44899999999996\n",
      "-32768.0\n"
     ]
    }
   ],
   "source": [
    "# define a path to your raster files folder \n",
    "file_folder = 'D:\\MS263\\Final_project\\SST_data\\MUR2002-2023'\n",
    "\n",
    "# make a file path to one of the nc files\n",
    "file_path = file_folder + '\\\\' + '20020902090000-JPL-L4_GHRSST-SSTfnd-MUR25-GLOB-v02.0-fv04.2.nc'\n",
    "\n",
    "# open the file and read in the SST variable to a 2D numpy grid\n",
    "ds = nc4.Dataset(file_path)\n",
    "sst_grid = ds.variables['analysed_sst']\n",
    "sst_grid = np.array(sst_grid)\n",
    "ds.close()\n",
    "\n",
    "# print the minimum and maximum of the grid\n",
    "print(np.max(sst_grid))\n",
    "print(np.min(sst_grid))"
   ]
  },
  {
   "cell_type": "code",
   "execution_count": 1,
   "id": "0bfd8153-fdc6-45bf-861a-d4b93567b1f9",
   "metadata": {},
   "outputs": [
    {
     "ename": "NameError",
     "evalue": "name 'nc4' is not defined",
     "output_type": "error",
     "traceback": [
      "\u001b[1;31m---------------------------------------------------------------------------\u001b[0m",
      "\u001b[1;31mNameError\u001b[0m                                 Traceback (most recent call last)",
      "Cell \u001b[1;32mIn[1], line 8\u001b[0m\n\u001b[0;32m      5\u001b[0m min_y_n_OR \u001b[38;5;241m=\u001b[39m \u001b[38;5;241m44.607492\u001b[39m\n\u001b[0;32m      6\u001b[0m max_y_n_OR \u001b[38;5;241m=\u001b[39m \u001b[38;5;241m45.535849\u001b[39m\n\u001b[1;32m----> 8\u001b[0m ds \u001b[38;5;241m=\u001b[39m \u001b[43mnc4\u001b[49m\u001b[38;5;241m.\u001b[39mDataset(file_path)\n\u001b[0;32m      9\u001b[0m x_grid_n_OR \u001b[38;5;241m=\u001b[39m ds\u001b[38;5;241m.\u001b[39mvariables[\u001b[38;5;124m'\u001b[39m\u001b[38;5;124mlon\u001b[39m\u001b[38;5;124m'\u001b[39m]\n\u001b[0;32m     10\u001b[0m x_grid_n_OR \u001b[38;5;241m=\u001b[39m np\u001b[38;5;241m.\u001b[39marray(x_grid_n_OR)\n",
      "\u001b[1;31mNameError\u001b[0m: name 'nc4' is not defined"
     ]
    }
   ],
   "source": [
    "#create grid for a site by inputting min & max coordinates\n",
    "\n",
    "min_x_n_OR = -124.663775\n",
    "max_x_n_OR = -124.390232\n",
    "min_y_n_OR = 44.607492\n",
    "max_y_n_OR = 45.535849\n",
    "\n",
    "ds = nc4.Dataset(file_path)\n",
    "x_grid_n_OR = ds.variables['lon']\n",
    "x_grid_n_OR = np.array(x_grid_n_OR)\n",
    "y_grid_n_OR = ds.variables['lat']\n",
    "y_grid_n_OR = np.array(y_grid_n_OR)\n",
    "sst_grid_n_OR = ds.variables['analysed_sst']\n",
    "sst_grid_n_OR = np.array(sst_grid_n_OR)\n",
    "ds.close()\n",
    "\n",
    "min_x_index_n_OR = np.argmin(np.abs(min_x_n_OR - x_grid_n_OR))\n",
    "max_x_index_n_OR = np.argmin(np.abs(max_x_n_OR - x_grid_n_OR))\n",
    "\n",
    "min_y_index_n_OR = np.argmin(np.abs(min_y_n_OR - y_grid_n_OR))\n",
    "max_y_index_n_OR = np.argmin(np.abs(max_y_n_OR - y_grid_n_OR))\n",
    "\n",
    "print(min_x_index_n_OR)\n",
    "print(min_y_index_n_OR)\n",
    "print(max_x_index_n_OR)\n",
    "print(max_y_index_n_OR)"
   ]
  },
  {
   "cell_type": "markdown",
   "id": "df2cf89f-a0af-408a-9cac-66a2d0fb711f",
   "metadata": {},
   "source": [
    "### Calculate average winter SST values for your site for every year"
   ]
  },
  {
   "cell_type": "code",
   "execution_count": 39,
   "id": "947ecfe9-22a8-4160-888b-d97ee213c6cb",
   "metadata": {},
   "outputs": [
    {
     "name": "stdout",
     "output_type": "stream",
     "text": [
      "20020901090000-JPL-L4_GHRSST-SSTfnd-MUR25-GLOB-v02.0-fv04.2.nc\n",
      "20230929090000-JPL-L4_GHRSST-SSTfnd-MUR25-GLOB-v02.0-fv04.2.nc\n",
      "working on year2002\n",
      "working on year2003\n",
      "working on year2004\n",
      "working on year2005\n",
      "working on year2006\n",
      "working on year2007\n",
      "working on year2008\n",
      "working on year2009\n",
      "working on year2010\n",
      "working on year2011\n",
      "working on year2012\n",
      "working on year2013\n",
      "working on year2014\n",
      "working on year2015\n",
      "working on year2016\n",
      "working on year2017\n",
      "working on year2018\n",
      "working on year2019\n",
      "working on year2020\n",
      "working on year2021\n",
      "working on year2022\n",
      "[2003, 2004, 2005, 2006, 2007, 2008, 2009, 2010, 2011, 2012, 2013, 2014, 2015, 2016, 2017, 2018, 2019, 2020, 2021, 2022, 2023]\n",
      "[284.2275758426967, 283.54558707865164, 283.382547752809, 283.5626123595505, 283.16316011235955, 282.1521910112359, 282.5767556179774, 283.4795280898876, 283.0910252808988, 282.7450393258426, 283.31749999999994, 282.7239157303371, 285.8072106741572, 284.4582668539325, 284.02996910112364, 283.8183230337079, 284.1218781249999, 283.15869936708873, 283.4419480519481, 283.20470624999984, 283.00471250000004]\n"
     ]
    }
   ],
   "source": [
    "# make a sorted file list of all the SST nc files\n",
    "file_list = []\n",
    "for file_name in os.listdir(file_folder):\n",
    "    if file_name[-3:]=='.nc':\n",
    "        file_list.append(file_name)\n",
    "\n",
    "# sort the file list\n",
    "file_list.sort()\n",
    "\n",
    "# make empty lists called year_list_site and sst_values_site\n",
    "# to store data from all of the files\n",
    "print(file_list[0])\n",
    "print(file_list[-1])\n",
    "\n",
    "year_list_n_OR = []\n",
    "sst_values_n_OR = []\n",
    "\n",
    "\n",
    "for yr in range(2002, 2023):\n",
    "    print('working on year' + str(yr))\n",
    "    sum=0\n",
    "    count=0\n",
    "    min_date = dt.datetime(yr, 12, 1)\n",
    "    max_date = dt.datetime(yr+1, 2, 28)\n",
    "# loop through all of the files in the file list\n",
    "    for file_name in file_list:\n",
    "        \n",
    "        \n",
    "        # make a date string for the file\n",
    "        file_parts = file_name.split('-')\n",
    "        year = file_parts[0][0:4]\n",
    "        month = file_parts[0][4:6]\n",
    "        day = file_parts[0][6:8]\n",
    "        date_str = year+'-'+month+'-'+day\n",
    "\n",
    "        file_date = dt.datetime(int(year),int(month),int(day))\n",
    "\n",
    "        if file_date >= min_date and file_date < max_date:\n",
    "            \n",
    "        \n",
    "            # open the file to get the SST grid\n",
    "            file_path = file_folder + '\\\\' + file_name\n",
    "            ds = nc4.Dataset(file_path)\n",
    "            longitude = np.array(ds.variables['lon'])\n",
    "            latitude = np.array(ds.variables['lat'])\n",
    "            sst = np.array(ds.variables['analysed_sst'])\n",
    "            ds.close()\n",
    "            sst = sst[0,:,:]\n",
    "        \n",
    "        \n",
    "            sst_grid_subset = sst[min_y_index_n_OR:max_y_index_n_OR, min_x_index_n_OR:max_x_index_n_OR]\n",
    "            \n",
    "            sst_grid_subset = sst_grid_subset[sst_grid_subset>-100]\n",
    "            \n",
    "\n",
    "            sum=sum+np.mean(sst_grid_subset)\n",
    "            count = count +1\n",
    "\n",
    "    average = sum/count\n",
    "    sst_values_n_OR.append(average)\n",
    "    year_list_n_OR.append(yr+1)\n",
    "            \n",
    "\n",
    "print(year_list_n_OR)\n",
    "print(sst_values_n_OR)"
   ]
  },
  {
   "cell_type": "markdown",
   "id": "3bc42e96-9d50-4786-94cc-851cbd5446bb",
   "metadata": {},
   "source": [
    "### Convert from Kelvin to Celsius"
   ]
  },
  {
   "cell_type": "code",
   "execution_count": 40,
   "id": "ce77d537-8f47-46a0-8ebb-1af03c7924e4",
   "metadata": {},
   "outputs": [
    {
     "name": "stdout",
     "output_type": "stream",
     "text": [
      "11.077575842696717\n",
      "10.395587078651658\n",
      "10.232547752809012\n",
      "10.412612359550508\n",
      "10.013160112359571\n",
      "9.002191011235936\n",
      "9.426755617977449\n",
      "10.329528089887617\n",
      "9.941025280898828\n",
      "9.595039325842606\n",
      "10.167499999999961\n",
      "9.573915730337148\n",
      "12.657210674157227\n",
      "11.308266853932537\n",
      "10.879969101123663\n",
      "10.668323033707907\n",
      "10.971878124999932\n",
      "10.008699367088752\n",
      "10.291948051948111\n",
      "10.054706249999867\n",
      "9.854712500000062\n",
      "[11.077575842696717, 10.395587078651658, 10.232547752809012, 10.412612359550508, 10.013160112359571, 9.002191011235936, 9.426755617977449, 10.329528089887617, 9.941025280898828, 9.595039325842606, 10.167499999999961, 9.573915730337148, 12.657210674157227, 11.308266853932537, 10.879969101123663, 10.668323033707907, 10.971878124999932, 10.008699367088752, 10.291948051948111, 10.054706249999867, 9.854712500000062]\n"
     ]
    }
   ],
   "source": [
    "sst_values_n_OR_c = []\n",
    "\n",
    "for year in sst_values_n_OR:\n",
    "    sst_values_n_OR_c.append(year-273.15)\n",
    "    print(year-273.15)\n",
    "\n",
    "print(sst_values_n_OR_c)"
   ]
  },
  {
   "cell_type": "markdown",
   "id": "c3d78de3-8b4c-490f-aa8f-e91dacebd3e6",
   "metadata": {},
   "source": [
    "### Export as a CSV"
   ]
  },
  {
   "cell_type": "code",
   "execution_count": 41,
   "id": "d54fb6e0-f4cc-4eca-8b98-732f3315e866",
   "metadata": {},
   "outputs": [],
   "source": [
    "sst_timeseries_interpolated = np.column_stack([year_list_n_OR, sst_values_n_OR_c])\n",
    "\n",
    "# define an output folder\n",
    "output_folder = 'C:\\\\Users\\\\maddi\\\\Desktop\\\\MS263\\\\MS263_FinalProject\\\\data\\\\Site_SST'\n",
    "\n",
    "# output the interpolated wind file\n",
    "np.savetxt(output_folder+'\\\\sst_n_oregon_final_timeseries.csv', sst_timeseries_interpolated, delimiter=',')"
   ]
  },
  {
   "cell_type": "code",
   "execution_count": null,
   "id": "1c0bcae1-1ac1-4e9a-8d65-d0bf9e597035",
   "metadata": {},
   "outputs": [],
   "source": []
  }
 ],
 "metadata": {
  "kernelspec": {
   "display_name": "ms274",
   "language": "python",
   "name": "ms274"
  },
  "language_info": {
   "codemirror_mode": {
    "name": "ipython",
    "version": 3
   },
   "file_extension": ".py",
   "mimetype": "text/x-python",
   "name": "python",
   "nbconvert_exporter": "python",
   "pygments_lexer": "ipython3",
   "version": "3.10.12"
  }
 },
 "nbformat": 4,
 "nbformat_minor": 5
}
